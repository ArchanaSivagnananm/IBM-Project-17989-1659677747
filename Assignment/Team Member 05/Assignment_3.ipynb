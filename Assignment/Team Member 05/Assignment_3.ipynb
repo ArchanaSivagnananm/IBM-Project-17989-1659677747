{
  "nbformat": 4,
  "nbformat_minor": 0,
  "metadata": {
    "colab": {
      "provenance": []
    },
    "kernelspec": {
      "name": "python3",
      "display_name": "Python 3"
    },
    "language_info": {
      "name": "python"
    }
  },
  "cells": [
    {
      "cell_type": "markdown",
      "source": [
        "#Assignment 3\n",
        "* Download the Dataset : https://drive.google.com/file/d/1xkynpL15pt6KT3YSlDimu4A5iRU9qYck/view\n",
        "* Image Augmentation\n",
        "* Create Model\n",
        "* Add Layers (Convolution,MaxPooling,Flatten,Dense-(Hidden Layers),Output)\n",
        "* Compile The Model\n",
        "* Fit The Model\n",
        "* Save The Model\n",
        "* Test The Model"
      ],
      "metadata": {
        "id": "Y-SWXJz6KrvO"
      }
    },
    {
      "cell_type": "markdown",
      "source": [
        "#Importing Packages"
      ],
      "metadata": {
        "id": "f1MgPTnCM_ik"
      }
    },
    {
      "cell_type": "code",
      "source": [
        "from tensorflow.keras.models import Sequential\n",
        "from tensorflow.keras.layers import Convolution2D,MaxPooling2D,Flatten,Dense\n",
        "from tensorflow.keras.preprocessing.image import ImageDataGenerator as idm\n",
        "import numpy as np\n",
        "import warnings\n",
        "#Supressing warnings\n",
        "warnings.filterwarnings('ignore')"
      ],
      "metadata": {
        "id": "RVrxKNNRND2l"
      },
      "execution_count": 50,
      "outputs": []
    },
    {
      "cell_type": "markdown",
      "source": [
        "# 2.Image Augmentation"
      ],
      "metadata": {
        "id": "NvKmqbBpNr60"
      }
    },
    {
      "cell_type": "code",
      "source": [
        "# Creating augmentation on training variable\n",
        "train_flowers=idm(rescale=1./255,zoom_range=0.2,horizontal_flip=True)\n",
        "\n",
        "# Passing training data to train variable\n",
        "Xtrain = train_flowers.flow_from_directory('/content/drive/MyDrive/IBM/Flowers-Dataset',target_size=(76,76),class_mode='categorical',batch_size=100)"
      ],
      "metadata": {
        "id": "Hibiw2_QNvDA",
        "colab": {
          "base_uri": "https://localhost:8080/"
        },
        "outputId": "061c3265-3379-445f-a04d-496c15f3c1db"
      },
      "execution_count": 51,
      "outputs": [
        {
          "output_type": "stream",
          "name": "stdout",
          "text": [
            "Found 4141 images belonging to 5 classes.\n"
          ]
        }
      ]
    },
    {
      "cell_type": "code",
      "source": [
        "# Creating augmentation on testing variable\n",
        "test_flowers=idm(rescale=1./255)\n",
        "\n",
        "# Passing testing data to test variable\n",
        "Xtest = test_flowers.flow_from_directory('/content/drive/MyDrive/IBM/Flower_Training',target_size=(76,76),class_mode='categorical',batch_size=100)"
      ],
      "metadata": {
        "id": "EFaav0igOU4O",
        "colab": {
          "base_uri": "https://localhost:8080/"
        },
        "outputId": "f0bb96c5-8e9f-4b34-b681-41df57890d72"
      },
      "execution_count": 52,
      "outputs": [
        {
          "output_type": "stream",
          "name": "stdout",
          "text": [
            "Found 204 images belonging to 5 classes.\n"
          ]
        }
      ]
    },
    {
      "cell_type": "markdown",
      "source": [
        "#3.Create Model"
      ],
      "metadata": {
        "id": "4UFGMaJgSsTq"
      }
    },
    {
      "cell_type": "code",
      "source": [
        "Flower_model = Sequential()\n",
        "Flower_model.add(Convolution2D(32,(3,3),activation='relu',input_shape=(76,76,3)))\n",
        "Flower_model.add(MaxPooling2D(pool_size=(2,2)))\n",
        "Flower_model.add(Flatten())\n",
        "Flower_model.add(Dense(300,activation='relu'))\n",
        "Flower_model.add(Dense(150,activation='relu'))\n",
        "Flower_model.add(Dense(5,activation='softmax'))"
      ],
      "metadata": {
        "id": "TtD2CeNrSt2Y"
      },
      "execution_count": 53,
      "outputs": []
    },
    {
      "cell_type": "markdown",
      "source": [
        "#4. Compile the Model"
      ],
      "metadata": {
        "id": "dXgIuioJTyXj"
      }
    },
    {
      "cell_type": "code",
      "source": [
        "Flower_model.compile(optimizer='adam',loss='categorical_crossentropy',metrics=['accuracy'])"
      ],
      "metadata": {
        "id": "f3PKgIc4T3Gg"
      },
      "execution_count": 54,
      "outputs": []
    },
    {
      "cell_type": "markdown",
      "source": [
        "#5. Fit the Model"
      ],
      "metadata": {
        "id": "sdMctRVCUURC"
      }
    },
    {
      "cell_type": "code",
      "source": [
        "Flower_model.fit_generator(Xtrain,steps_per_epoch= len (Xtrain),epochs= 10,validation_data=Xtest,validation_steps= len (Xtest))"
      ],
      "metadata": {
        "colab": {
          "base_uri": "https://localhost:8080/"
        },
        "id": "B4GRVOUJUajl",
        "outputId": "a4203806-a535-43e8-ab50-6071d2c08de5"
      },
      "execution_count": 55,
      "outputs": [
        {
          "output_type": "stream",
          "name": "stdout",
          "text": [
            "Epoch 1/10\n",
            "42/42 [==============================] - 567s 14s/step - loss: 1.9592 - accuracy: 0.3700 - val_loss: 1.1356 - val_accuracy: 0.5490\n",
            "Epoch 2/10\n",
            "42/42 [==============================] - 26s 618ms/step - loss: 1.1221 - accuracy: 0.5412 - val_loss: 1.1446 - val_accuracy: 0.6422\n",
            "Epoch 3/10\n",
            "42/42 [==============================] - 26s 612ms/step - loss: 1.0173 - accuracy: 0.6042 - val_loss: 1.1835 - val_accuracy: 0.6225\n",
            "Epoch 4/10\n",
            "42/42 [==============================] - 26s 611ms/step - loss: 0.9552 - accuracy: 0.6264 - val_loss: 1.0033 - val_accuracy: 0.6765\n",
            "Epoch 5/10\n",
            "42/42 [==============================] - 26s 620ms/step - loss: 0.8832 - accuracy: 0.6619 - val_loss: 0.9993 - val_accuracy: 0.7059\n",
            "Epoch 6/10\n",
            "42/42 [==============================] - 26s 621ms/step - loss: 0.8373 - accuracy: 0.6783 - val_loss: 0.9690 - val_accuracy: 0.7206\n",
            "Epoch 7/10\n",
            "42/42 [==============================] - 26s 615ms/step - loss: 0.8125 - accuracy: 0.6923 - val_loss: 0.8731 - val_accuracy: 0.7059\n",
            "Epoch 8/10\n",
            "42/42 [==============================] - 26s 608ms/step - loss: 0.7663 - accuracy: 0.7073 - val_loss: 1.0149 - val_accuracy: 0.6667\n",
            "Epoch 9/10\n",
            "42/42 [==============================] - 26s 616ms/step - loss: 0.7333 - accuracy: 0.7242 - val_loss: 0.9583 - val_accuracy: 0.6863\n",
            "Epoch 10/10\n",
            "42/42 [==============================] - 26s 613ms/step - loss: 0.7128 - accuracy: 0.7262 - val_loss: 0.9150 - val_accuracy: 0.7206\n"
          ]
        },
        {
          "output_type": "execute_result",
          "data": {
            "text/plain": [
              "<keras.callbacks.History at 0x7fd5aec82f50>"
            ]
          },
          "metadata": {},
          "execution_count": 55
        }
      ]
    },
    {
      "cell_type": "markdown",
      "source": [
        "#7. Save the model"
      ],
      "metadata": {
        "id": "HUrKXOqSWoyI"
      }
    },
    {
      "cell_type": "code",
      "source": [
        "Flower_model.save('Flower.h5')"
      ],
      "metadata": {
        "id": "7Ge-hXhNXKnD"
      },
      "execution_count": 56,
      "outputs": []
    },
    {
      "cell_type": "markdown",
      "source": [
        "#8. Test the model"
      ],
      "metadata": {
        "id": "h1kh3jlnXOsx"
      }
    },
    {
      "cell_type": "code",
      "source": [
        "test_img=image.load_img('/content/drive/MyDrive/IBM/Flowers-Dataset/sunflower/200557977_bf24d9550b.jpg',target_size=(76,76))\n",
        "test_img"
      ],
      "metadata": {
        "colab": {
          "base_uri": "https://localhost:8080/",
          "height": 93
        },
        "id": "cLSmt_R_XSnP",
        "outputId": "0ae04e96-ce4f-45a2-9857-3341df9fbceb"
      },
      "execution_count": 60,
      "outputs": [
        {
          "output_type": "execute_result",
          "data": {
            "text/plain": [
              "<PIL.Image.Image image mode=RGB size=76x76 at 0x7FD5B74F0F90>"
            ],
            "image/png": "[encoded data removed]"
          },
          "metadata": {},
          "execution_count": 60
        }
      ]
    },
    {
      "cell_type": "code",
      "source": [
        "x=image.img_to_array(test_img)\n",
        "x=np.expand_dims(x,axis=0)\n",
        "predicted=np.argmax(Flower_model.predict(x))\n",
        "Prediction_category=['daisy','dandelion','rose','sunflower','tulip']\n",
        "Prediction_category[predicted]"
      ],
      "metadata": {
        "colab": {
          "base_uri": "https://localhost:8080/",
          "height": 36
        },
        "id": "eJgk-zXiY_MP",
        "outputId": "327af9ca-fb84-4c48-e8a6-ae086ae4ef50"
      },
      "execution_count": 61,
      "outputs": [
        {
          "output_type": "execute_result",
          "data": {
            "text/plain": [
              "'sunflower'"
            ],
            "application/vnd.google.colaboratory.intrinsic+json": {
              "type": "string"
            }
          },
          "metadata": {},
          "execution_count": 61
        }
      ]
    },
    {
      "cell_type": "code",
      "source": [
        "test_img1=image.load_img('/content/drive/MyDrive/IBM/Flowers-Dataset/daisy/1140299375_3aa7024466.jpg',target_size=(76,76))\n",
        "test_img1"
      ],
      "metadata": {
        "colab": {
          "base_uri": "https://localhost:8080/",
          "height": 93
        },
        "id": "t56VdZohaeGq",
        "outputId": "d2fb28ab-3507-4173-bf9a-854913fcd120"
      },
      "execution_count": 59,
      "outputs": [
        {
          "output_type": "execute_result",
          "data": {
            "text/plain": [
              "<PIL.Image.Image image mode=RGB size=76x76 at 0x7FD5B74F06D0>"
            ],
            "image/png": "[encoded data removed]"
          },
          "metadata": {},
          "execution_count": 59
        }
      ]
    },
    {
      "cell_type": "code",
      "source": [
        "x=image.img_to_array(test_img1)\n",
        "x=np.expand_dims(x,axis=0)\n",
        "predicted=np.argmax(Flower_model.predict(x))\n",
        "Prediction_category[predicted]"
      ],
      "metadata": {
        "colab": {
          "base_uri": "https://localhost:8080/",
          "height": 36
        },
        "id": "HXPsbwE5aoS5",
        "outputId": "828b3081-2000-456b-b794-0ee7eaebc0e8"
      },
      "execution_count": 46,
      "outputs": [
        {
          "output_type": "execute_result",
          "data": {
            "text/plain": [
              "'daisy'"
            ],
            "application/vnd.google.colaboratory.intrinsic+json": {
              "type": "string"
            }
          },
          "metadata": {},
          "execution_count": 46
        }
      ]
    },
    {
      "cell_type": "code",
      "source": [
        "test_img2=image.load_img('/content/drive/MyDrive/IBM/Flowers-Dataset/rose/7251352826_69b62cba2c_m.jpg',target_size=(76,76))\n",
        "test_img2"
      ],
      "metadata": {
        "colab": {
          "base_uri": "https://localhost:8080/",
          "height": 93
        },
        "id": "1trUVhoAhNy_",
        "outputId": "68e90da6-208c-4369-8e4d-bb290b2b1936"
      },
      "execution_count": 65,
      "outputs": [
        {
          "output_type": "execute_result",
          "data": {
            "text/plain": [
              "<PIL.Image.Image image mode=RGB size=76x76 at 0x7FD5B9D8A5D0>"
            ],
            "image/png": "[encoded data removed]"
          },
          "metadata": {},
          "execution_count": 65
        }
      ]
    },
    {
      "cell_type": "code",
      "source": [
        "x=image.img_to_array(test_img2)\n",
        "x=np.expand_dims(x,axis=0)\n",
        "predicted=np.argmax(Flower_model.predict(x))\n",
        "Prediction_category[predicted]"
      ],
      "metadata": {
        "colab": {
          "base_uri": "https://localhost:8080/",
          "height": 36
        },
        "id": "8stJT3VahQV0",
        "outputId": "06c311d0-5e6c-4c48-ad23-435bc5c29d3c"
      },
      "execution_count": 66,
      "outputs": [
        {
          "output_type": "execute_result",
          "data": {
            "text/plain": [
              "'rose'"
            ],
            "application/vnd.google.colaboratory.intrinsic+json": {
              "type": "string"
            }
          },
          "metadata": {},
          "execution_count": 66
        }
      ]
    }
  ]
}